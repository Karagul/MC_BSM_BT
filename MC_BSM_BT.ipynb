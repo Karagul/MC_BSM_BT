{
 "cells": [
  {
   "cell_type": "code",
   "execution_count": 1,
   "metadata": {},
   "outputs": [],
   "source": [
    "import pandas as pd\n",
    "import numpy as np\n",
    "import matplotlib.pyplot as plt\n",
    "import seaborn as sns\n",
    "import math\n",
    "from scipy.stats import norm"
   ]
  },
  {
   "cell_type": "markdown",
   "metadata": {},
   "source": [
    "### Monte Carlo"
   ]
  },
  {
   "cell_type": "code",
   "execution_count": 2,
   "metadata": {},
   "outputs": [],
   "source": [
    "So = 13.71\n",
    "T = 1\n",
    "vol = 1.21\n",
    "rf = 0.06\n",
    "k = 18.07"
   ]
  },
  {
   "cell_type": "code",
   "execution_count": 3,
   "metadata": {},
   "outputs": [
    {
     "data": {
      "text/html": [
       "<div>\n",
       "<style scoped>\n",
       "    .dataframe tbody tr th:only-of-type {\n",
       "        vertical-align: middle;\n",
       "    }\n",
       "\n",
       "    .dataframe tbody tr th {\n",
       "        vertical-align: top;\n",
       "    }\n",
       "\n",
       "    .dataframe thead th {\n",
       "        text-align: right;\n",
       "    }\n",
       "</style>\n",
       "<table border=\"1\" class=\"dataframe\">\n",
       "  <thead>\n",
       "    <tr style=\"text-align: right;\">\n",
       "      <th></th>\n",
       "      <th>counter</th>\n",
       "      <th>norm</th>\n",
       "      <th>ST</th>\n",
       "      <th>VT</th>\n",
       "    </tr>\n",
       "  </thead>\n",
       "  <tbody>\n",
       "    <tr>\n",
       "      <td>0</td>\n",
       "      <td>1</td>\n",
       "      <td>1.972275</td>\n",
       "      <td>76.136556</td>\n",
       "      <td>58.066556</td>\n",
       "    </tr>\n",
       "    <tr>\n",
       "      <td>1</td>\n",
       "      <td>2</td>\n",
       "      <td>0.359452</td>\n",
       "      <td>10.815854</td>\n",
       "      <td>0.000000</td>\n",
       "    </tr>\n",
       "    <tr>\n",
       "      <td>2</td>\n",
       "      <td>3</td>\n",
       "      <td>-1.824245</td>\n",
       "      <td>0.770080</td>\n",
       "      <td>0.000000</td>\n",
       "    </tr>\n",
       "    <tr>\n",
       "      <td>3</td>\n",
       "      <td>4</td>\n",
       "      <td>-1.776246</td>\n",
       "      <td>0.816130</td>\n",
       "      <td>0.000000</td>\n",
       "    </tr>\n",
       "    <tr>\n",
       "      <td>4</td>\n",
       "      <td>5</td>\n",
       "      <td>-0.900176</td>\n",
       "      <td>2.355758</td>\n",
       "      <td>0.000000</td>\n",
       "    </tr>\n",
       "    <tr>\n",
       "      <td>...</td>\n",
       "      <td>...</td>\n",
       "      <td>...</td>\n",
       "      <td>...</td>\n",
       "      <td>...</td>\n",
       "    </tr>\n",
       "    <tr>\n",
       "      <td>999995</td>\n",
       "      <td>999996</td>\n",
       "      <td>-0.034384</td>\n",
       "      <td>6.715851</td>\n",
       "      <td>0.000000</td>\n",
       "    </tr>\n",
       "    <tr>\n",
       "      <td>999996</td>\n",
       "      <td>999997</td>\n",
       "      <td>0.985196</td>\n",
       "      <td>23.061453</td>\n",
       "      <td>4.991453</td>\n",
       "    </tr>\n",
       "    <tr>\n",
       "      <td>999997</td>\n",
       "      <td>999998</td>\n",
       "      <td>1.001445</td>\n",
       "      <td>23.519372</td>\n",
       "      <td>5.449372</td>\n",
       "    </tr>\n",
       "    <tr>\n",
       "      <td>999998</td>\n",
       "      <td>999999</td>\n",
       "      <td>-1.110896</td>\n",
       "      <td>1.825568</td>\n",
       "      <td>0.000000</td>\n",
       "    </tr>\n",
       "    <tr>\n",
       "      <td>999999</td>\n",
       "      <td>1000000</td>\n",
       "      <td>-1.222655</td>\n",
       "      <td>1.594663</td>\n",
       "      <td>0.000000</td>\n",
       "    </tr>\n",
       "  </tbody>\n",
       "</table>\n",
       "<p>1000000 rows × 4 columns</p>\n",
       "</div>"
      ],
      "text/plain": [
       "        counter      norm         ST         VT\n",
       "0             1  1.972275  76.136556  58.066556\n",
       "1             2  0.359452  10.815854   0.000000\n",
       "2             3 -1.824245   0.770080   0.000000\n",
       "3             4 -1.776246   0.816130   0.000000\n",
       "4             5 -0.900176   2.355758   0.000000\n",
       "...         ...       ...        ...        ...\n",
       "999995   999996 -0.034384   6.715851   0.000000\n",
       "999996   999997  0.985196  23.061453   4.991453\n",
       "999997   999998  1.001445  23.519372   5.449372\n",
       "999998   999999 -1.110896   1.825568   0.000000\n",
       "999999  1000000 -1.222655   1.594663   0.000000\n",
       "\n",
       "[1000000 rows x 4 columns]"
      ]
     },
     "execution_count": 3,
     "metadata": {},
     "output_type": "execute_result"
    }
   ],
   "source": [
    "mc = pd.DataFrame({'counter': range(1,1000001,1),'norm' : np.random.normal(size=(1000000))})\n",
    "mc['ST'] = So *math.e**((rf - (1/2)*vol**2)*T + vol*np.sqrt(T) * mc.norm)\n",
    "mc['VT'] =  np.where(mc.ST-k > 0, mc.ST-k, 0)\n",
    "mc"
   ]
  },
  {
   "cell_type": "code",
   "execution_count": 4,
   "metadata": {},
   "outputs": [
    {
     "name": "stdout",
     "output_type": "stream",
     "text": [
      "Average Norm: 5.8e-05 \n",
      " Average  ST: 14.57 \n",
      "  Average VT: 5.782\n"
     ]
    }
   ],
   "source": [
    "print(f'Average Norm: {mc.norm.mean():.2} \\n Average  ST: {mc.ST.mean():.4} \\n  Average VT: {mc.VT.mean():.4}')"
   ]
  },
  {
   "cell_type": "code",
   "execution_count": 5,
   "metadata": {},
   "outputs": [
    {
     "name": "stdout",
     "output_type": "stream",
     "text": [
      " Value: 5.445\n"
     ]
    }
   ],
   "source": [
    "val = mc.VT.mean() / math.e**(rf * T)\n",
    "print(f' Value: {val:.4}')"
   ]
  },
  {
   "cell_type": "markdown",
   "metadata": {},
   "source": [
    "## Multiple Uncertainty\n",
    "#### Strike price changes with uncertainty"
   ]
  },
  {
   "cell_type": "code",
   "execution_count": 6,
   "metadata": {},
   "outputs": [
    {
     "data": {
      "text/html": [
       "<div>\n",
       "<style scoped>\n",
       "    .dataframe tbody tr th:only-of-type {\n",
       "        vertical-align: middle;\n",
       "    }\n",
       "\n",
       "    .dataframe tbody tr th {\n",
       "        vertical-align: top;\n",
       "    }\n",
       "\n",
       "    .dataframe thead th {\n",
       "        text-align: right;\n",
       "    }\n",
       "</style>\n",
       "<table border=\"1\" class=\"dataframe\">\n",
       "  <thead>\n",
       "    <tr style=\"text-align: right;\">\n",
       "      <th></th>\n",
       "      <th>counter</th>\n",
       "      <th>Z1</th>\n",
       "      <th>Z2</th>\n",
       "      <th>ST</th>\n",
       "      <th>eps</th>\n",
       "      <th>KT</th>\n",
       "      <th>VT</th>\n",
       "    </tr>\n",
       "  </thead>\n",
       "  <tbody>\n",
       "    <tr>\n",
       "      <td>0</td>\n",
       "      <td>1</td>\n",
       "      <td>-0.909419</td>\n",
       "      <td>-0.378339</td>\n",
       "      <td>2.329558</td>\n",
       "      <td>-0.633738</td>\n",
       "      <td>4.286111</td>\n",
       "      <td>0.000000</td>\n",
       "    </tr>\n",
       "    <tr>\n",
       "      <td>1</td>\n",
       "      <td>2</td>\n",
       "      <td>-0.451593</td>\n",
       "      <td>1.033503</td>\n",
       "      <td>4.053773</td>\n",
       "      <td>0.850421</td>\n",
       "      <td>25.821637</td>\n",
       "      <td>0.000000</td>\n",
       "    </tr>\n",
       "    <tr>\n",
       "      <td>2</td>\n",
       "      <td>3</td>\n",
       "      <td>-0.212092</td>\n",
       "      <td>0.897088</td>\n",
       "      <td>5.416466</td>\n",
       "      <td>0.792140</td>\n",
       "      <td>24.063407</td>\n",
       "      <td>0.000000</td>\n",
       "    </tr>\n",
       "    <tr>\n",
       "      <td>3</td>\n",
       "      <td>4</td>\n",
       "      <td>0.749166</td>\n",
       "      <td>-0.971704</td>\n",
       "      <td>17.332205</td>\n",
       "      <td>-0.702197</td>\n",
       "      <td>3.945378</td>\n",
       "      <td>13.386827</td>\n",
       "    </tr>\n",
       "    <tr>\n",
       "      <td>4</td>\n",
       "      <td>5</td>\n",
       "      <td>0.282375</td>\n",
       "      <td>0.829851</td>\n",
       "      <td>9.852740</td>\n",
       "      <td>0.876340</td>\n",
       "      <td>26.644275</td>\n",
       "      <td>0.000000</td>\n",
       "    </tr>\n",
       "    <tr>\n",
       "      <td>...</td>\n",
       "      <td>...</td>\n",
       "      <td>...</td>\n",
       "      <td>...</td>\n",
       "      <td>...</td>\n",
       "      <td>...</td>\n",
       "      <td>...</td>\n",
       "      <td>...</td>\n",
       "    </tr>\n",
       "    <tr>\n",
       "      <td>99995</td>\n",
       "      <td>99996</td>\n",
       "      <td>0.141916</td>\n",
       "      <td>-0.998266</td>\n",
       "      <td>8.312777</td>\n",
       "      <td>-0.909711</td>\n",
       "      <td>3.069311</td>\n",
       "      <td>5.243466</td>\n",
       "    </tr>\n",
       "    <tr>\n",
       "      <td>99996</td>\n",
       "      <td>99997</td>\n",
       "      <td>0.276026</td>\n",
       "      <td>-0.085846</td>\n",
       "      <td>9.777332</td>\n",
       "      <td>0.000916</td>\n",
       "      <td>9.237869</td>\n",
       "      <td>0.539462</td>\n",
       "    </tr>\n",
       "    <tr>\n",
       "      <td>99997</td>\n",
       "      <td>99998</td>\n",
       "      <td>-0.270362</td>\n",
       "      <td>-0.907923</td>\n",
       "      <td>5.047721</td>\n",
       "      <td>-0.947212</td>\n",
       "      <td>2.933148</td>\n",
       "      <td>2.114574</td>\n",
       "    </tr>\n",
       "    <tr>\n",
       "      <td>99998</td>\n",
       "      <td>99999</td>\n",
       "      <td>1.508401</td>\n",
       "      <td>2.600884</td>\n",
       "      <td>43.433940</td>\n",
       "      <td>2.933606</td>\n",
       "      <td>321.136354</td>\n",
       "      <td>0.000000</td>\n",
       "    </tr>\n",
       "    <tr>\n",
       "      <td>99999</td>\n",
       "      <td>100000</td>\n",
       "      <td>0.178070</td>\n",
       "      <td>0.895348</td>\n",
       "      <td>8.684498</td>\n",
       "      <td>0.907529</td>\n",
       "      <td>27.669006</td>\n",
       "      <td>0.000000</td>\n",
       "    </tr>\n",
       "  </tbody>\n",
       "</table>\n",
       "<p>100000 rows × 7 columns</p>\n",
       "</div>"
      ],
      "text/plain": [
       "       counter        Z1        Z2         ST       eps          KT         VT\n",
       "0            1 -0.909419 -0.378339   2.329558 -0.633738    4.286111   0.000000\n",
       "1            2 -0.451593  1.033503   4.053773  0.850421   25.821637   0.000000\n",
       "2            3 -0.212092  0.897088   5.416466  0.792140   24.063407   0.000000\n",
       "3            4  0.749166 -0.971704  17.332205 -0.702197    3.945378  13.386827\n",
       "4            5  0.282375  0.829851   9.852740  0.876340   26.644275   0.000000\n",
       "...        ...       ...       ...        ...       ...         ...        ...\n",
       "99995    99996  0.141916 -0.998266   8.312777 -0.909711    3.069311   5.243466\n",
       "99996    99997  0.276026 -0.085846   9.777332  0.000916    9.237869   0.539462\n",
       "99997    99998 -0.270362 -0.907923   5.047721 -0.947212    2.933148   2.114574\n",
       "99998    99999  1.508401  2.600884  43.433940  2.933606  321.136354   0.000000\n",
       "99999   100000  0.178070  0.895348   8.684498  0.907529   27.669006   0.000000\n",
       "\n",
       "[100000 rows x 7 columns]"
      ]
     },
     "execution_count": 6,
     "metadata": {},
     "output_type": "execute_result"
    }
   ],
   "source": [
    "corr = .3\n",
    "mc2 = pd.DataFrame({'counter': range(1,100001,1),'Z1' : np.random.normal(size=(100000)),'Z2' : np.random.normal(size=(100000))})\n",
    "mc2['ST'] = So *math.e**((rf - (1/2)*vol**2)*T + vol*np.sqrt(T) * mc2.Z1)\n",
    "mc2['eps'] = corr * mc2.Z1 + mc2.Z2*np.sqrt(1-corr**2)\n",
    "mc2['KT'] = k*math.e**((rf - .5 *vol**2) * T + vol * np.sqrt(T) * mc2.eps)\n",
    "mc2['VT'] = np.where(mc2.ST-mc2.KT>0,mc2.ST-mc2.KT,0)\n",
    "mc2"
   ]
  },
  {
   "cell_type": "code",
   "execution_count": 7,
   "metadata": {},
   "outputs": [
    {
     "name": "stdout",
     "output_type": "stream",
     "text": [
      "Average Norm: -0.0042 \n",
      " Average  ST: 14.53 \n",
      "  Average VT: 19.32 \n",
      "  Average VT: 6.681\n"
     ]
    }
   ],
   "source": [
    "print(f'Average Norm: {mc2.Z1.mean():.2} \\n Average  ST: {mc2.ST.mean():.4} \\n  Average VT: {mc2.KT.mean():.4} \\n  Average VT: {mc2.VT.mean():.4}')"
   ]
  },
  {
   "cell_type": "code",
   "execution_count": 8,
   "metadata": {},
   "outputs": [
    {
     "name": "stdout",
     "output_type": "stream",
     "text": [
      " Value: 6.292\n"
     ]
    }
   ],
   "source": [
    "val2 = mc2.VT.mean() * math.e**(-rf * T)\n",
    "print(f' Value: {val2:.4}')"
   ]
  },
  {
   "cell_type": "markdown",
   "metadata": {},
   "source": [
    "##  BSM"
   ]
  },
  {
   "cell_type": "code",
   "execution_count": 9,
   "metadata": {},
   "outputs": [],
   "source": [
    "def blackscholes(option,so,k,rf,t,vol,div=0):\n",
    "    d1 = (np.log(so/k)+(rf-div+vol**2/2)*t)/(vol*np.sqrt(t))\n",
    "    d2 = d1-vol*np.sqrt(t)\n",
    "    if option == 'call':\n",
    "        call = so*math.e**(-div*t) * norm.cdf(d1) - k*math.e**(-rf*t) * norm.cdf(d2)\n",
    "        return call\n",
    "    elif option == 'put':\n",
    "        put = k*math.e**(-rf*t)*norm.cdf(-d2) - so*math.e**(-div*t)*norm.cdf(-d1)\n",
    "        return put\n",
    "    "
   ]
  },
  {
   "cell_type": "code",
   "execution_count": 10,
   "metadata": {},
   "outputs": [
    {
     "data": {
      "text/plain": [
       "5.431741035648174"
      ]
     },
     "execution_count": 10,
     "metadata": {},
     "output_type": "execute_result"
    }
   ],
   "source": [
    "k = 18.07\n",
    "So = 13.71\n",
    "rf = 0.06\n",
    "vol = 1.21\n",
    "T = 1\n",
    "blackscholes('call',So, k, rf,T,vol)"
   ]
  },
  {
   "cell_type": "markdown",
   "metadata": {},
   "source": [
    "## Binomial Tree"
   ]
  },
  {
   "cell_type": "code",
   "execution_count": 11,
   "metadata": {},
   "outputs": [
    {
     "name": "stdout",
     "output_type": "stream",
     "text": [
      "1.4180701711113846 0.7051837210680976 0.420584231574464\n"
     ]
    }
   ],
   "source": [
    "# def binomial_tree(so, vol, rf, k, t):\n",
    "\n",
    "k = 18.07\n",
    "So = 13.71\n",
    "rf = 0.06\n",
    "vol = 1.21\n",
    "T = 1/12\n",
    "t = 12\n",
    "\n",
    "# k = 35\n",
    "# So = 30\n",
    "# rf = 0.05\n",
    "# vol = 0.4\n",
    "# T = 1/12\n",
    "# t = 12\n",
    "\n",
    "up = math.e**(vol * np.sqrt(T))\n",
    "do = 1/up\n",
    "q = (math.e**(rf * T)-do)/(up-do)\n",
    "print(up, do, q)"
   ]
  },
  {
   "cell_type": "code",
   "execution_count": 24,
   "metadata": {},
   "outputs": [],
   "source": [
    "def binomial_tree(so,vol,rf,k,T, steps):\n",
    "    up = math.e**(vol * np.sqrt(T/steps))\n",
    "    down = 1/up\n",
    "    q = (math.e**(rf * T/steps)-down)/(up-down)\n",
    "    \n",
    "    df = pd.DataFrame(data={'0':[so]})\n",
    "    for i in range(steps):\n",
    "        df[f'{i+1}'] = df[f'{0+i}'] * up\n",
    "    for i in range(1,steps+1):\n",
    "        df.loc[i,:] = (df.loc[-1+i,:] * down).shift(1)\n",
    "#     print(df)\n",
    "    df2 = df\n",
    "    df2[f'{steps}'] = np.where(df[f'{steps}'] - k>0, df[f'{steps}'] - k,0)\n",
    "    \n",
    "    for i in range(1,steps+1):\n",
    "        df2[f'{steps-i}'] = (q * df2[f'{steps+1-i}'] + (1-q)*df2[f'{steps+1-i}'].shift(-1))/math.e**(rf * (1/steps))\n",
    "#     print(df2)\n",
    "    return df2.iloc[0,0]"
   ]
  },
  {
   "cell_type": "code",
   "execution_count": 25,
   "metadata": {},
   "outputs": [
    {
     "data": {
      "text/plain": [
       "5.5270726361904785"
      ]
     },
     "execution_count": 25,
     "metadata": {},
     "output_type": "execute_result"
    }
   ],
   "source": [
    "binomial_tree(So,vol,rf,k,1,12)"
   ]
  },
  {
   "cell_type": "code",
   "execution_count": 26,
   "metadata": {},
   "outputs": [
    {
     "data": {
      "text/html": [
       "<div>\n",
       "<style scoped>\n",
       "    .dataframe tbody tr th:only-of-type {\n",
       "        vertical-align: middle;\n",
       "    }\n",
       "\n",
       "    .dataframe tbody tr th {\n",
       "        vertical-align: top;\n",
       "    }\n",
       "\n",
       "    .dataframe thead th {\n",
       "        text-align: right;\n",
       "    }\n",
       "</style>\n",
       "<table border=\"1\" class=\"dataframe\">\n",
       "  <thead>\n",
       "    <tr style=\"text-align: right;\">\n",
       "      <th></th>\n",
       "      <th>0</th>\n",
       "      <th>1</th>\n",
       "    </tr>\n",
       "  </thead>\n",
       "  <tbody>\n",
       "    <tr>\n",
       "      <td>0</td>\n",
       "      <td>1.0</td>\n",
       "      <td>6.568714</td>\n",
       "    </tr>\n",
       "    <tr>\n",
       "      <td>1</td>\n",
       "      <td>2.0</td>\n",
       "      <td>5.371073</td>\n",
       "    </tr>\n",
       "    <tr>\n",
       "      <td>2</td>\n",
       "      <td>3.0</td>\n",
       "      <td>5.724090</td>\n",
       "    </tr>\n",
       "    <tr>\n",
       "      <td>3</td>\n",
       "      <td>4.0</td>\n",
       "      <td>5.519335</td>\n",
       "    </tr>\n",
       "    <tr>\n",
       "      <td>4</td>\n",
       "      <td>5.0</td>\n",
       "      <td>5.542850</td>\n",
       "    </tr>\n",
       "    <tr>\n",
       "      <td>...</td>\n",
       "      <td>...</td>\n",
       "      <td>...</td>\n",
       "    </tr>\n",
       "    <tr>\n",
       "      <td>95</td>\n",
       "      <td>96.0</td>\n",
       "      <td>5.426635</td>\n",
       "    </tr>\n",
       "    <tr>\n",
       "      <td>96</td>\n",
       "      <td>97.0</td>\n",
       "      <td>5.443181</td>\n",
       "    </tr>\n",
       "    <tr>\n",
       "      <td>97</td>\n",
       "      <td>98.0</td>\n",
       "      <td>5.427809</td>\n",
       "    </tr>\n",
       "    <tr>\n",
       "      <td>98</td>\n",
       "      <td>99.0</td>\n",
       "      <td>5.442591</td>\n",
       "    </tr>\n",
       "    <tr>\n",
       "      <td>99</td>\n",
       "      <td>100.0</td>\n",
       "      <td>5.428895</td>\n",
       "    </tr>\n",
       "  </tbody>\n",
       "</table>\n",
       "<p>100 rows × 2 columns</p>\n",
       "</div>"
      ],
      "text/plain": [
       "        0         1\n",
       "0     1.0  6.568714\n",
       "1     2.0  5.371073\n",
       "2     3.0  5.724090\n",
       "3     4.0  5.519335\n",
       "4     5.0  5.542850\n",
       "..    ...       ...\n",
       "95   96.0  5.426635\n",
       "96   97.0  5.443181\n",
       "97   98.0  5.427809\n",
       "98   99.0  5.442591\n",
       "99  100.0  5.428895\n",
       "\n",
       "[100 rows x 2 columns]"
      ]
     },
     "execution_count": 26,
     "metadata": {},
     "output_type": "execute_result"
    }
   ],
   "source": [
    "vals = pd.DataFrame()\n",
    "for i in range(1,101):\n",
    "#     print(i)\n",
    "    vals = vals.append(pd.Series([i, binomial_tree(So,vol,rf,k,1,i)]), ignore_index=True)\n",
    "vals"
   ]
  },
  {
   "cell_type": "code",
   "execution_count": 27,
   "metadata": {},
   "outputs": [],
   "source": [
    "vals = vals.rename(columns={0:'Steps',1:'Binomial Tree Value'})"
   ]
  },
  {
   "cell_type": "code",
   "execution_count": 28,
   "metadata": {},
   "outputs": [
    {
     "name": "stdout",
     "output_type": "stream",
     "text": [
      "5.431741035648174\n"
     ]
    },
    {
     "data": {
      "image/png": "[encoded data removed]",
      "text/plain": [
       "<Figure size 864x576 with 1 Axes>"
      ]
     },
     "metadata": {
      "needs_background": "light"
     },
     "output_type": "display_data"
    }
   ],
   "source": [
    "k = 18.07\n",
    "So = 13.71\n",
    "rf = 0.06\n",
    "vol = 1.21\n",
    "T = 1\n",
    "bsm = blackscholes('call',So, k, rf,T,vol)\n",
    "print(bsm)\n",
    "plt.figure(figsize=(12,8))\n",
    "sns.lineplot(x=vals.Steps, y = vals['Binomial Tree Value'], label='Binomial Tree Value', linewidth = 2)\n",
    "plt.title('Binomial Tree to BSM', fontsize=15)\n",
    "plt.xlabel('Number of Steps', fontsize=14)\n",
    "plt.ylabel('Value', fontsize=14)\n",
    "axes = plt.gca()\n",
    "axes.set_ylim([5.3,5.8])\n",
    "plt.axhline(y=blackscholes('call',So, k, rf,T,vol), color='orange', linestyle='-', linewidth=2, label = 'Black-Scholes-Merton Value')\n",
    "plt.legend()\n",
    "plt.tight_layout()"
   ]
  },
  {
   "cell_type": "code",
   "execution_count": null,
   "metadata": {},
   "outputs": [],
   "source": []
  },
  {
   "cell_type": "code",
   "execution_count": null,
   "metadata": {},
   "outputs": [],
   "source": []
  }
 ],
 "metadata": {
  "kernelspec": {
   "display_name": "Python 3",
   "language": "python",
   "name": "python3"
  },
  "language_info": {
   "codemirror_mode": {
    "name": "ipython",
    "version": 3
   },
   "file_extension": ".py",
   "mimetype": "text/x-python",
   "name": "python",
   "nbconvert_exporter": "python",
   "pygments_lexer": "ipython3",
   "version": "3.7.4"
  }
 },
 "nbformat": 4,
 "nbformat_minor": 2
}
